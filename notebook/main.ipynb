{
 "cells": [
  {
   "cell_type": "code",
   "execution_count": null,
   "outputs": [],
   "source": [
    "# !nvidia-smi"
   ],
   "metadata": {
    "collapsed": false,
    "pycharm": {
     "name": "#%%\n"
    }
   }
  },
  {
   "cell_type": "code",
   "execution_count": null,
   "outputs": [],
   "source": [
    "# from google.colab import drive\n",
    "# drive.mount('/content/drive')\n",
    "#\n",
    "# # !ln -s ./drive/MyDrive/Data/MNISTDigitRecognize/ ../input\n",
    "# !mkdir -p ../input\n",
    "# !cp ./drive/MyDrive/Data/MNISTDigitRecognize/{data.npy,label.npy} ../input\n",
    "# !ln -s ./drive/MyDrive/Data/MNISTDigitRecognize/save ./save\n",
    "# !cp ./drive/MyDrive/Data/MNISTDigitRecognize/digit-recognizer.zip .\n",
    "# !unzip digit-recognizer.zip > /dev/null\n",
    "#\n",
    "# !pip3 install -qU timm tqdm albumentations opencv-python torch-lr-finder\n"
   ],
   "metadata": {
    "collapsed": false,
    "pycharm": {
     "name": "#%%\n"
    }
   }
  },
  {
   "cell_type": "code",
   "execution_count": 1,
   "metadata": {
    "collapsed": true
   },
   "outputs": [
    {
     "name": "stderr",
     "output_type": "stream",
     "text": [
      "/home/thaiminhpv/anaconda3/envs/thaiminhpv/lib/python3.9/site-packages/torch/cuda/amp/grad_scaler.py:115: UserWarning: torch.cuda.amp.GradScaler is enabled, but CUDA is not available.  Disabling.\n",
      "  warnings.warn(\"torch.cuda.amp.GradScaler is enabled, but CUDA is not available.  Disabling.\")\n"
     ]
    }
   ],
   "source": [
    "# libraries\n",
    "import os\n",
    "import time\n",
    "import subprocess\n",
    "import numpy as np\n",
    "import pandas as pd\n",
    "import ast\n",
    "import cv2\n",
    "import PIL.Image\n",
    "import matplotlib.pyplot as plt\n",
    "import timm\n",
    "%matplotlib inline\n",
    "import seaborn as sns\n",
    "import torch\n",
    "from torch.utils.data import TensorDataset, DataLoader, Dataset\n",
    "import torch.nn as nn\n",
    "import torch.nn.functional as F\n",
    "import torchvision.transforms as transforms\n",
    "import torch.optim as optim\n",
    "from torch.optim import lr_scheduler\n",
    "from torch.optim.lr_scheduler import StepLR, ReduceLROnPlateau, CosineAnnealingLR\n",
    "# from warmup_scheduler import GradualWarmupScheduler\n",
    "import albumentations\n",
    "from albumentations.pytorch import ToTensorV2\n",
    "import torch.cuda.amp as amp\n",
    "# import segmentation_models_pytorch as smp\n",
    "from tqdm import tqdm\n",
    "from torchvision.io import read_image\n",
    "import timm\n",
    "from torch_lr_finder import LRFinder\n",
    "\n",
    "scaler = amp.GradScaler()\n",
    "\n",
    "import warnings\n",
    "warnings.filterwarnings(\"ignore\")\n",
    "device = torch.device('cuda') if torch.cuda.is_available() else torch.device('cpu')\n"
   ]
  },
  {
   "cell_type": "code",
   "execution_count": 95,
   "outputs": [],
   "source": [
    "\n",
    "# TRAIN_DIR = 'dataset/train/train/'\n",
    "RANDOM_SEED = 42\n",
    "BATCH_SIZE = 32\n",
    "NUM_WORKERS = 4\n",
    "NUM_CLASSES = 10\n",
    "NUM_EPOCHS = 100\n",
    "LR = 1e-2 # found by LRFinder\n"
   ],
   "metadata": {
    "collapsed": false,
    "pycharm": {
     "name": "#%%\n"
    }
   }
  },
  {
   "cell_type": "code",
   "execution_count": 93,
   "outputs": [
    {
     "data": {
      "text/plain": "((42000, 28, 28), (42000,))"
     },
     "execution_count": 93,
     "metadata": {},
     "output_type": "execute_result"
    }
   ],
   "source": [
    "\n",
    "df = pd.read_csv('../input/train.csv')\n",
    "data = df.drop(['label'], axis=1).to_numpy().reshape(-1, 28, 28)\n",
    "label = df['label'].to_numpy()\n",
    "\n",
    "# data = np.load('../input/data.npy')\n",
    "# label = np.load('../input/label.npy')\n",
    "\n",
    "data.shape, label.shape"
   ],
   "metadata": {
    "collapsed": false,
    "pycharm": {
     "name": "#%%\n"
    }
   }
  },
  {
   "cell_type": "code",
   "execution_count": 97,
   "outputs": [
    {
     "name": "stdout",
     "output_type": "stream",
     "text": [
      "Train data shape: (33600, 28, 28) (33600,)\n",
      "Test data shape: (8400, 28, 28) (8400,)\n"
     ]
    }
   ],
   "source": [
    "# train, test split\n",
    "from sklearn.model_selection import train_test_split\n",
    "X_train, X_test, y_train, y_test = train_test_split(data, label, test_size=0.2, random_state=RANDOM_SEED)\n",
    "\n",
    "print(\"Train data shape:\", X_train.shape, y_train.shape)\n",
    "print(\"Test data shape:\", X_test.shape, y_test.shape)"
   ],
   "metadata": {
    "collapsed": false,
    "pycharm": {
     "name": "#%%\n"
    }
   }
  },
  {
   "cell_type": "code",
   "execution_count": 89,
   "outputs": [],
   "source": [
    "# create dataset\n",
    "class MNist(Dataset):\n",
    "    def __init__(self, data, label, transform=None):\n",
    "        self.data = data\n",
    "        self.label = label\n",
    "        self.transform = transform\n",
    "    def __len__(self):\n",
    "        return len(self.data)\n",
    "    def __getitem__(self, idx):\n",
    "        img = self.data[idx]\n",
    "        label = self.label[idx]\n",
    "        if self.transform:\n",
    "            img = self.transform(image=img)['image']\n",
    "            img = img.float()\n",
    "        else:\n",
    "            img = img.astype(np.float32)\n",
    "            img = img[..., None] # (w, h) -> (w, h, 1)\n",
    "            img = img.transpose((2, 0, 1))\n",
    "            img = torch.from_numpy(img)\n",
    "\n",
    "        img /= 255.0\n",
    "        return img, label"
   ],
   "metadata": {
    "collapsed": false,
    "pycharm": {
     "name": "#%%\n"
    }
   }
  },
  {
   "cell_type": "code",
   "execution_count": 90,
   "outputs": [
    {
     "name": "stderr",
     "output_type": "stream",
     "text": [
      "/home/thaiminhpv/anaconda3/envs/thaiminhpv/lib/python3.9/site-packages/albumentations/augmentations/transforms.py:1826: FutureWarning: This class has been deprecated. Please use RandomBrightnessContrast\n",
      "  warnings.warn(\n"
     ]
    }
   ],
   "source": [
    "transforms_train = albumentations.Compose([\n",
    "    albumentations.RandomContrast(limit=0.2, p=0.5),\n",
    "    ToTensorV2()\n",
    "])\n",
    "transforms_val = albumentations.Compose([\n",
    "    ToTensorV2()\n",
    "])"
   ],
   "metadata": {
    "collapsed": false,
    "pycharm": {
     "name": "#%%\n"
    }
   }
  },
  {
   "cell_type": "code",
   "execution_count": 91,
   "outputs": [
    {
     "name": "stdout",
     "output_type": "stream",
     "text": [
      "torch.Size([32, 10])\n"
     ]
    }
   ],
   "source": [
    "\n",
    "class EnetReg(nn.Module):\n",
    "    def __init__(self, num_classes):\n",
    "        super(EnetReg, self).__init__()\n",
    "        self.enet = timm.create_model('tf_efficientnet_b0_ns', pretrained=True)\n",
    "        # change input channels from RGB to grayscale\n",
    "        self.enet.conv_stem.weight = nn.Parameter(self.enet.conv_stem.weight.mean(axis=1, keepdims=True))\n",
    "        # retrain last layer\n",
    "        self.enet.classifier = nn.Linear(self.enet.classifier.in_features, num_classes)\n",
    "    def forward(self, x):\n",
    "        x = self.enet(x)\n",
    "        return x\n",
    "_test_model = EnetReg(num_classes=10)\n",
    "with torch.no_grad():\n",
    "    print(_test_model(torch.rand(32, 1, 24, 24)).shape) # batch size must > 1 (batch norm)"
   ],
   "metadata": {
    "collapsed": false,
    "pycharm": {
     "name": "#%%\n"
    }
   }
  },
  {
   "cell_type": "code",
   "execution_count": 92,
   "outputs": [
    {
     "name": "stderr",
     "output_type": "stream",
     "text": [
      "/home/thaiminhpv/anaconda3/envs/thaiminhpv/lib/python3.9/site-packages/torch/autocast_mode.py:141: UserWarning: User provided device_type of 'cuda', but CUDA is not available. Disabling\n",
      "  warnings.warn('User provided device_type of \\'cuda\\', but CUDA is not available. Disabling')\n"
     ]
    },
    {
     "data": {
      "text/plain": "  0%|          | 0/100 [00:00<?, ?it/s]",
      "application/vnd.jupyter.widget-view+json": {
       "version_major": 2,
       "version_minor": 0,
       "model_id": "2746d3059a5d4ef5912b6c0f62f2b74e"
      }
     },
     "metadata": {},
     "output_type": "display_data"
    },
    {
     "name": "stdout",
     "output_type": "stream",
     "text": [
      "Stopping early, the loss has diverged\n",
      "Learning rate search finished. See the graph with {finder_name}.plot()\n",
      "LR suggestion: steepest gradient\n",
      "Suggested LR: 1.00E-02\n"
     ]
    },
    {
     "data": {
      "text/plain": "<Figure size 432x288 with 1 Axes>",
      "image/png": "[encoded data removed]"
     },
     "metadata": {
      "needs_background": "light"
     },
     "output_type": "display_data"
    }
   ],
   "source": [
    "# find learning rate\n",
    "\n",
    "criterion = nn.CrossEntropyLoss()\n",
    "optimizer = optim.Adam(_test_model.parameters(), lr=1e-7, weight_decay=1e-2)\n",
    "find_lr_loader = DataLoader(\n",
    "    MNist(data, label, transform=transforms_train),\n",
    "    batch_size=BATCH_SIZE,\n",
    "    shuffle=True,\n",
    "    num_workers=4\n",
    ")\n",
    "\n",
    "with amp.autocast():\n",
    "    lr_finder = LRFinder(_test_model, optimizer, criterion, device=device)\n",
    "    lr_finder.range_test(find_lr_loader, end_lr=100, num_iter=100)\n",
    "    lr_finder.plot()\n",
    "    lr_finder.reset()"
   ],
   "metadata": {
    "collapsed": false,
    "pycharm": {
     "name": "#%%\n"
    }
   }
  },
  {
   "cell_type": "code",
   "execution_count": 87,
   "outputs": [],
   "source": [
    "def train_epoch(model, loader, optimizer):\n",
    "    model.train()\n",
    "    train_loss = []\n",
    "    accs = []\n",
    "    bar = tqdm(loader)\n",
    "    for images, labels in bar:\n",
    "        images, labels = images.to(device), labels.to(device)\n",
    "        optimizer.zero_grad()\n",
    "        with amp.autocast():\n",
    "            logits = model(images)\n",
    "            loss = criterion(logits, labels)\n",
    "        scaler.scale(loss).backward()\n",
    "        scaler.step(optimizer)\n",
    "        scaler.update()\n",
    "\n",
    "        loss_np = loss.item()\n",
    "        train_loss.append(loss_np)\n",
    "\n",
    "        acc = (logits.argmax(dim=1) == labels).float().mean().item()\n",
    "        accs.append(acc)\n",
    "\n",
    "        bar.set_description(f'loss: {loss_np:0.4f} | acc: {acc:0.4f}')\n",
    "    return train_loss, accs\n",
    "\n",
    "def val_epoch(model, loader):\n",
    "    model.eval()\n",
    "    val_loss = []\n",
    "    accs = []\n",
    "    bar = tqdm(loader)\n",
    "    with torch.no_grad():\n",
    "        for images, labels in bar:\n",
    "            images, labels = images.to(device), labels.to(device)\n",
    "            logits = model(images)\n",
    "            loss = criterion(logits, labels)\n",
    "            loss_np = loss.item()\n",
    "            val_loss.append(loss_np)\n",
    "\n",
    "            acc = (logits.argmax(dim=1) == labels).float().mean().item()\n",
    "            accs.append(acc)\n",
    "\n",
    "            bar.set_description(f'loss: {loss_np:0.4f} | acc: {acc:0.4f}')\n",
    "    return val_loss, accs"
   ],
   "metadata": {
    "collapsed": false,
    "pycharm": {
     "name": "#%%\n"
    }
   }
  },
  {
   "cell_type": "code",
   "execution_count": 88,
   "outputs": [],
   "source": [
    "# Custom Log\n",
    "from torch.utils.tensorboard import SummaryWriter\n",
    "TENSORBOARD_LOG_DIR = 'digit_recognizer'\n",
    "\n",
    "# default `log_dir` is \"runs\" - we'll be more specific here\n",
    "train_writer = SummaryWriter(f'runs/{TENSORBOARD_LOG_DIR}/train')\n",
    "val_writer = SummaryWriter(f'runs/{TENSORBOARD_LOG_DIR}/val')\n",
    "\n",
    "%load_ext tensorboard\n",
    "# %reload_ext tensorboard\n",
    "# %tensorboard --logdir runs/$TENSORBOARD_LOG_DIR\n",
    "\n",
    "def log_and_save_metrics(epoch, metrics):\n",
    "    # log metrics to tensorboard\n",
    "    for k, v in metrics['train'].items():\n",
    "        train_writer.add_scalar(k, v, epoch)\n",
    "    for k, v in metrics['val'].items():\n",
    "        val_writer.add_scalar(k, v, epoch)\n",
    "\n",
    "    train_loss = metrics['train']['loss']\n",
    "    val_loss = metrics['val']['loss']\n",
    "    train_acc = metrics['train']['acc']\n",
    "    val_acc = metrics['val']['acc']\n",
    "\n",
    "    # log metrics to stdout\n",
    "    print(f'Epoch: {epoch}, Train Loss: {train_loss}, Val Loss: {val_loss}, Train Acc: {train_acc}, Val Acc: {val_acc}')\n",
    "\n",
    "    # save metrics to disk\n",
    "    np.save(f'save/loss_epoch_{epoch}.npy', np.array(train_loss))\n",
    "    np.save(f'save/val_loss_epoch_{epoch}.npy', np.array(val_loss))\n",
    "    np.save(f'save/acc_epoch_{epoch}.npy', np.array(train_acc))\n",
    "    np.save(f'save/val_acc_epoch_{epoch}.npy', np.array(val_acc))\n"
   ],
   "metadata": {
    "collapsed": false,
    "pycharm": {
     "name": "#%%\n"
    }
   }
  },
  {
   "cell_type": "code",
   "execution_count": null,
   "outputs": [],
   "source": [
    "def run(epoch_num, start_from_epoch=1):\n",
    "    model = EnetReg(num_classes=10)\n",
    "    model.to(device)\n",
    "    optimizer = torch.optim.Adam(model.parameters(), lr=LR, weight_decay=1e-5)\n",
    "    scheduler = torch.optim.lr_scheduler.ReduceLROnPlateau(optimizer, patience=3, verbose=True)\n",
    "\n",
    "    dataset_train = DataLoader(\n",
    "        MNist(X_train, y_train, transform=transforms_train),\n",
    "        batch_size=BATCH_SIZE,\n",
    "        shuffle=True,\n",
    "        num_workers=NUM_WORKERS\n",
    "    )\n",
    "\n",
    "    dataset_val = DataLoader(\n",
    "        MNist(X_test, y_test, transform=transforms_val),\n",
    "        batch_size=BATCH_SIZE,\n",
    "        shuffle=True,\n",
    "        num_workers=NUM_WORKERS\n",
    "    )\n",
    "\n",
    "    if start_from_epoch != 1:\n",
    "        model.load_state_dict(torch.load(f'save/model_epoch_{start_from_epoch - 1}.pth'))\n",
    "    for epoch in range(start_from_epoch, epoch_num):\n",
    "        train_loss, train_acc = train_epoch(model, dataset_train, optimizer)\n",
    "        val_loss, val_acc = val_epoch(model, dataset_val)\n",
    "\n",
    "        scheduler.step(np.mean(val_loss), epoch)\n",
    "        log_and_save_metrics(epoch, {\n",
    "            'train': {\n",
    "                'loss': np.mean(train_loss),\n",
    "                'acc': np.mean(train_acc)\n",
    "            },\n",
    "            'val': {\n",
    "                'loss': np.mean(val_loss),\n",
    "                'acc': np.mean(val_acc)\n",
    "            }\n",
    "        })\n",
    "\n",
    "        # save model\n",
    "        torch.save(model.state_dict(), f'save/model_epoch_{epoch}.pth')"
   ],
   "metadata": {
    "collapsed": false,
    "pycharm": {
     "name": "#%%\n"
    }
   }
  },
  {
   "cell_type": "code",
   "execution_count": null,
   "outputs": [],
   "source": [
    "dataset_visualize = DataLoader(\n",
    "    MNist(X_train, y_train, transform=transforms_train),\n",
    "    batch_size=BATCH_SIZE,\n",
    "    shuffle=True,\n",
    "    num_workers=NUM_WORKERS\n",
    ")\n",
    "# # model = EnetReg(num_classes=10)\n",
    "# # model.to(device)\n",
    "# images, labels = next(iter(dataset_train))\n",
    "# # images, labels = images.to(device), labels.to(device)\n",
    "# # logits = model(images)\n",
    "# # loss = criterion(logits, labels)\n",
    "images, labels = next(iter(dataset_visualize))\n",
    "\n",
    "# display 32 images in a 4x8 grid to plt, and label them with their class name\n",
    "plt.figure(figsize=(10, 10))\n",
    "\n",
    "for i in range(BATCH_SIZE):\n",
    "    plt.subplot(4, 8, i + 1)\n",
    "    plt.imshow(images[i, 0].cpu().numpy(), cmap=\"gray\")\n",
    "    plt.title(\"{}\".format(labels[i].item()))\n",
    "    plt.axis(\"off\")"
   ],
   "metadata": {
    "collapsed": false,
    "pycharm": {
     "name": "#%%\n"
    }
   }
  },
  {
   "cell_type": "code",
   "execution_count": null,
   "outputs": [],
   "source": [
    "run(10, start_from_epoch=1)"
   ],
   "metadata": {
    "collapsed": false,
    "pycharm": {
     "name": "#%%\n"
    }
   }
  },
  {
   "cell_type": "code",
   "execution_count": null,
   "outputs": [],
   "source": [
    "def inference():\n",
    "    model = EnetReg(num_classes=10)\n",
    "    model.load_state_dict(torch.load(f'save/model_epoch_299.pth'))\n",
    "    model.to(device)\n",
    "\n",
    "    df_test = pd.read_csv('../input/test.csv')\n",
    "    X_test = df_test.drop(['label'], axis=1).to_numpy().reshape(-1, 28, 28)\n",
    "    y_test = df_test['label'].to_numpy()\n",
    "\n",
    "    dataset_inference = DataLoader(\n",
    "        MNist(X_test, y_test, transform=transforms_val),\n",
    "        batch_size=BATCH_SIZE,\n",
    "        shuffle=False,\n",
    "        num_workers=NUM_WORKERS\n",
    "    )\n",
    "    model.eval()\n",
    "    predictions = []\n",
    "    with torch.no_grad():\n",
    "        for images, labels in tqdm(dataset_inference):\n",
    "            images, labels = images.to(device), labels.to(device)\n",
    "            logits = model(images)\n",
    "            preds = torch.argmax(logits, dim=1)\n",
    "            predictions.append(preds.cpu().numpy())\n",
    "    predictions = np.concatenate(predictions, axis=0)\n",
    "\n",
    "    df_predictions = pd.read_csv('../input/sample_submission.csv')\n",
    "    df_predictions['label'] = predictions\n",
    "    df_predictions.to_csv('save/submission.csv', index=False)"
   ],
   "metadata": {
    "collapsed": false,
    "pycharm": {
     "name": "#%%\n"
    }
   }
  }
 ],
 "metadata": {
  "kernelspec": {
   "display_name": "Python 3",
   "language": "python",
   "name": "python3"
  },
  "language_info": {
   "codemirror_mode": {
    "name": "ipython",
    "version": 2
   },
   "file_extension": ".py",
   "mimetype": "text/x-python",
   "name": "python",
   "nbconvert_exporter": "python",
   "pygments_lexer": "ipython2",
   "version": "2.7.6"
  }
 },
 "nbformat": 4,
 "nbformat_minor": 0
}